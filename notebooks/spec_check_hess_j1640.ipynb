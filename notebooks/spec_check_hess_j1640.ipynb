{
 "cells": [
  {
   "cell_type": "markdown",
   "metadata": {},
   "source": [
    "# Spectrum check for HESS J1640\n",
    "\n",
    "This is a check for https://github.com/gammapy/gamma-cat/issues/117 .\n",
    "\n",
    "The conclusion is that the statement concerning the flux norm in the paper is wrong, or at least misleading.\n",
    "\n",
    "The statement in the paper is this:\n",
    "\n",
    "    The fit of a power law with exponential cut-off: dN/dE = phi0 × (E/1 TeV)−  e−E/Ec results in a photon index   = 2.11 ± 0.09stat ± 0.10sys, a differential flux normalization at 1 TeV of  phi0 = (3.3 ± 0.1stat ± 0.6sys ) × 10−12 TeV−1 cm−2 s−1 and a cut-off energy of E = 6.0+2.0 TeV. \n",
    "\n",
    "The problem is that there's a difference between the amplitude parameter phi0, and the differential flux at 1 TeV, given by this factor:\n",
    "\n",
    "    exp(E/Ec) = exp(1/6.0) = 1.18\n",
    "\n",
    "The correct spectral model (as confirmed via [this page](https://hess-confluence.desy.de/confluence/display/HESS/Example+Analysis+Summary+Page#ExampleAnalysisSummaryPage-Spectrum)) actually has a differential flux at 1 TeV of 3.3e-12 cm-2 s-1 TeV-1, and an amplitude:\n",
    "\n",
    "    phi0 = 1.18 * 3.3e-12 cm-2 s-1 TeV-1 = 3.9e-12 cm-2 s-1 TeV-1\n",
    "\n",
    "The solution for us in gamma-cat and the HGPS cross-check is to change the data entry,\n",
    "and to report this back to Stefan Ohm and HESS."
   ]
  },
  {
   "cell_type": "code",
   "execution_count": 1,
   "metadata": {
    "collapsed": true
   },
   "outputs": [],
   "source": [
    "%matplotlib inline\n",
    "import numpy as np\n",
    "import matplotlib.pyplot as plt\n",
    "import astropy.units as u\n",
    "from gammapy.spectrum.models import ExponentialCutoffPowerLaw\n",
    "from gammapy.catalog import SourceCatalogGammaCat"
   ]
  },
  {
   "cell_type": "code",
   "execution_count": 2,
   "metadata": {},
   "outputs": [],
   "source": [
    "cat = SourceCatalogGammaCat()\n",
    "source = cat['HESS J1640-465']\n",
    "# print(source)\n",
    "# print(source.spectral_model)"
   ]
  },
  {
   "cell_type": "code",
   "execution_count": 3,
   "metadata": {},
   "outputs": [],
   "source": [
    "# To check, we plot an extra spectrum with parameters from here:\n",
    "# https://hess-confluence.desy.de/confluence/display/HESS/Example+Analysis+Summary+Page#ExampleAnalysisSummaryPage-Spectrum\n",
    "spectral_model = ExponentialCutoffPowerLaw(\n",
    "    index=2.1055,\n",
    "    amplitude=1.4194e-11 * u.Unit('cm-2 s-1 TeV-1'),\n",
    "    lambda_=0.1670 * u.Unit('TeV-1'),\n",
    "    reference=0.5435 * u.Unit('TeV'),\n",
    ")\n",
    "# print(spectral_model)"
   ]
  },
  {
   "cell_type": "code",
   "execution_count": 4,
   "metadata": {},
   "outputs": [
    {
     "data": {
      "text/plain": [
       "<matplotlib.legend.Legend at 0x115139710>"
      ]
     },
     "execution_count": 4,
     "metadata": {},
     "output_type": "execute_result"
    },
    {
     "data": {
      "image/png": "[encoded data removed]",
      "text/plain": [
       "<matplotlib.figure.Figure at 0x1151392b0>"
      ]
     },
     "metadata": {},
     "output_type": "display_data"
    }
   ],
   "source": [
    "energy_range=[0.1, 30] * u.TeV\n",
    "opts = dict(energy_power=2, flux_unit='cm-2 s-1 erg-1')\n",
    "source.flux_points.plot(**opts)\n",
    "source.spectral_model.plot(energy_range, label='current', **opts)\n",
    "spectral_model.plot(energy_range, label='new', **opts)\n",
    "plt.legend()"
   ]
  },
  {
   "cell_type": "code",
   "execution_count": 5,
   "metadata": {},
   "outputs": [
    {
     "data": {
      "text/plain": [
       "[]"
      ]
     },
     "execution_count": 5,
     "metadata": {},
     "output_type": "execute_result"
    },
    {
     "data": {
      "image/png": "[encoded data removed]",
      "text/plain": [
       "<matplotlib.figure.Figure at 0x115123b38>"
      ]
     },
     "metadata": {},
     "output_type": "display_data"
    }
   ],
   "source": [
    "# Plot residual points wrt new spectral model defined here\n",
    "x = source.flux_points.table['e_ref']\n",
    "y_data = source.flux_points.table['dnde']\n",
    "y_model = spectral_model(x)\n",
    "y_err = source.flux_points.table['dnde_errp']\n",
    "y = (y_data - y_model) / y_err\n",
    "plt.plot(x, y, 'o')\n",
    "plt.hlines([0], x[0], x[-1])\n",
    "plt.semilogx()"
   ]
  },
  {
   "cell_type": "code",
   "execution_count": 6,
   "metadata": {},
   "outputs": [
    {
     "name": "stdout",
     "output_type": "stream",
     "text": [
      "\n",
      "\n",
      " *** catalog *** \n",
      "\n",
      "\n",
      "ExponentialCutoffPowerLaw\n",
      "\n",
      "Parameters: \n",
      "\n",
      "\t   name     value     error         unit      min  max  frozen\n",
      "\t--------- --------- --------- --------------- ---- ---- ------\n",
      "\t    index 2.110e+00 9.000e-02                    0 None  False\n",
      "\tamplitude 3.300e-12 1.000e-13 1 / (cm2 s TeV)    0 None  False\n",
      "\treference 1.000e+00 0.000e+00             TeV None None   True\n",
      "\t  lambda_ 1.667e-01 5.556e-02         1 / TeV    0 None  False\n",
      "\n",
      "Covariance: \n",
      "\n",
      "\tname/name index  amplitude lambda_\n",
      "\t--------- ------ --------- -------\n",
      "\t    index 0.0081       0.0     0.0\n",
      "\tamplitude    0.0     1e-26     0.0\n",
      "\t  lambda_    0.0       0.0 0.00309\n",
      "1.0911966576915133e-11 1 / (cm2 s TeV)\n",
      "2.7933897176874854e-12 1 / (cm2 s TeV)\n",
      "\n",
      "\n",
      " *** new *** \n",
      "\n",
      "\n",
      "ExponentialCutoffPowerLaw\n",
      "\n",
      "Parameters: \n",
      "\n",
      "\t   name     value   error       unit      min  max  frozen\n",
      "\t--------- --------- ----- --------------- ---- ---- ------\n",
      "\t    index 2.106e+00   nan                    0 None  False\n",
      "\tamplitude 1.419e-11   nan 1 / (cm2 s TeV)    0 None  False\n",
      "\treference 5.435e-01   nan             TeV None None   True\n",
      "\t  lambda_ 1.670e-01   nan         1 / TeV    0 None  False\n",
      "1.2962425680330428e-11 1 / (cm2 s TeV)\n",
      "3.326904018546751e-12 1 / (cm2 s TeV)\n"
     ]
    }
   ],
   "source": [
    "# This new spectrum and residual points matches the published Figure 2 in the paper exactly.\n",
    "# So what's wrong?\n",
    "print('\\n\\n *** catalog *** \\n\\n')\n",
    "print(source.spectral_model)\n",
    "print(source.spectral_model(0.5435 * u.TeV))\n",
    "print(source.spectral_model(1.0 * u.TeV))\n",
    "\n",
    "print('\\n\\n *** new *** \\n\\n')\n",
    "print(spectral_model)\n",
    "print(spectral_model(0.5435 * u.TeV))\n",
    "print(spectral_model(1.0 * u.TeV))"
   ]
  },
  {
   "cell_type": "code",
   "execution_count": 7,
   "metadata": {},
   "outputs": [
    {
     "name": "stdout",
     "output_type": "stream",
     "text": [
      "1.18136041287\n",
      "3.894e-12\n",
      "3.925746741885166e-12\n"
     ]
    }
   ],
   "source": [
    "# The problem is this factor, as explained at the top:\n",
    "print(np.exp(1 / 6.0))\n",
    "print(1.18 * 3.3e-12)\n",
    "print(3.326904018546751e-12 * 1.18)"
   ]
  }
 ],
 "metadata": {
  "kernelspec": {
   "display_name": "Python 3",
   "language": "python",
   "name": "python3"
  },
  "language_info": {
   "codemirror_mode": {
    "name": "ipython",
    "version": 3
   },
   "file_extension": ".py",
   "mimetype": "text/x-python",
   "name": "python",
   "nbconvert_exporter": "python",
   "pygments_lexer": "ipython3",
   "version": "3.6.1"
  }
 },
 "nbformat": 4,
 "nbformat_minor": 2
}
