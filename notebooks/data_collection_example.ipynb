{
 "cells": [
  {
   "cell_type": "markdown",
   "metadata": {},
   "source": [
    "# Gamma-cat with Gammapy\n",
    "\n",
    "Examples of how to access and plot gamma-cat data with Gammapy.\n",
    "\n",
    "Please note that this is still very much work in progress.\n",
    "\n",
    "* The data index and collection classes are missing features and still buggy (no-one used them so far).\n",
    "* There is no file to Gammapy model object mapper yet implemented for the YAML files\n",
    "* The catalog class is in better shape (but doesn't offer access to all data from gamma-cat)\n",
    "\n",
    "Pull requests to improve on this welcome any time!\n",
    "\n",
    "As an example, let's see if we can do something useful for https://github.com/gammapy/gamma-cat/issues/98 and check the status of the data we have on IC 443 in gamma-cat"
   ]
  },
  {
   "cell_type": "code",
   "execution_count": 1,
   "metadata": {},
   "outputs": [],
   "source": [
    "%matplotlib inline\n",
    "import matplotlib.pyplot as plt"
   ]
  },
  {
   "cell_type": "code",
   "execution_count": 2,
   "metadata": {},
   "outputs": [],
   "source": [
    "import os\n",
    "from pathlib import Path\n",
    "from pprint import pprint\n",
    "import json\n",
    "import yaml\n",
    "from astropy.units import Unit\n",
    "from gammapy.catalog import GammaCatResourceIndex, GammaCatDataCollection, SourceCatalogGammaCat\n",
    "from gammapy.spectrum import FluxPoints\n",
    "from gammapy.spectrum.models import PowerLaw"
   ]
  },
  {
   "cell_type": "code",
   "execution_count": 3,
   "metadata": {},
   "outputs": [],
   "source": [
    "# The read methods in GammaCatResourceIndex, GammaCatDataCollection\n",
    "# seem to be broken, so we just read it manually"
   ]
  },
  {
   "cell_type": "code",
   "execution_count": 4,
   "metadata": {},
   "outputs": [
    {
     "data": {
      "text/html": [
       "<i>Table length=3</i>\n",
       "<table id=\"table4443504824\" class=\"table-striped table-bordered table-condensed\">\n",
       "<thead><tr><th>source_id</th><th>reference_id</th><th>file_id</th><th>type</th><th>location</th></tr></thead>\n",
       "<thead><tr><th>int64</th><th>str19</th><th>int64</th><th>str3</th><th>str49</th></tr></thead>\n",
       "<tr><td>29</td><td>2009ApJ...698L.133A</td><td>-1</td><td>ds</td><td>data/2009/2009ApJ...698L.133A/tev-000029.yaml</td></tr>\n",
       "<tr><td>29</td><td>2009ApJ...698L.133A</td><td>-1</td><td>sed</td><td>data/2009/2009ApJ...698L.133A/tev-000029-sed.ecsv</td></tr>\n",
       "<tr><td>29</td><td>2015arXiv151201911H</td><td>-1</td><td>ds</td><td>data/2015/2015arXiv151201911H/tev-000029.yaml</td></tr>\n",
       "</table>"
      ],
      "text/plain": [
       "<Table length=3>\n",
       "source_id ...                      location                    \n",
       "  int64   ...                       str49                      \n",
       "--------- ... -------------------------------------------------\n",
       "       29 ...     data/2009/2009ApJ...698L.133A/tev-000029.yaml\n",
       "       29 ... data/2009/2009ApJ...698L.133A/tev-000029-sed.ecsv\n",
       "       29 ...     data/2015/2015arXiv151201911H/tev-000029.yaml"
      ]
     },
     "execution_count": 4,
     "metadata": {},
     "output_type": "execute_result"
    }
   ],
   "source": [
    "gamma_cat_path = Path(os.environ['GAMMA_CAT'])\n",
    "filename = str(gamma_cat_path / 'input/input-datasets.json')\n",
    "resources = GammaCatResourceIndex.from_list(json.load(open(filename)))\n",
    "r29 = resources.query('source_id==29')\n",
    "r29.to_table()"
   ]
  },
  {
   "cell_type": "code",
   "execution_count": 5,
   "metadata": {},
   "outputs": [
    {
     "data": {
      "text/html": [
       "<i>Table length=5</i>\n",
       "<table id=\"table4443046632\" class=\"table-striped table-bordered table-condensed\">\n",
       "<thead><tr><th>source_id</th><th>reference_id</th><th>file_id</th><th>type</th><th>location</th></tr></thead>\n",
       "<thead><tr><th>int64</th><th>str19</th><th>int64</th><th>str3</th><th>str69</th></tr></thead>\n",
       "<tr><td>29</td><td></td><td>-1</td><td>bsi</td><td>sources/tev-000029.yaml</td></tr>\n",
       "<tr><td>29</td><td>2007ApJ...664L..87A</td><td>-1</td><td>ds</td><td>data/2007ApJ...664L..87A/gammacat_2007ApJ...664L..87A_000029_ds.yaml</td></tr>\n",
       "<tr><td>29</td><td>2009ApJ...698L.133A</td><td>-1</td><td>ds</td><td>data/2009ApJ...698L.133A/gammacat_2009ApJ...698L.133A_000029_ds.yaml</td></tr>\n",
       "<tr><td>29</td><td>2009ApJ...698L.133A</td><td>-1</td><td>sed</td><td>data/2009ApJ...698L.133A/gammacat_2009ApJ...698L.133A_000029_sed.ecsv</td></tr>\n",
       "<tr><td>29</td><td>2015arXiv151201911H</td><td>-1</td><td>ds</td><td>data/2015arXiv151201911H/gammacat_2015arXiv151201911H_000029_ds.yaml</td></tr>\n",
       "</table>"
      ],
      "text/plain": [
       "<Table length=5>\n",
       "source_id ...\n",
       "  int64   ...\n",
       "--------- ...\n",
       "       29 ...\n",
       "       29 ...\n",
       "       29 ...\n",
       "       29 ...\n",
       "       29 ..."
      ]
     },
     "execution_count": 5,
     "metadata": {},
     "output_type": "execute_result"
    }
   ],
   "source": [
    "gamma_cat_path = Path(os.environ['GAMMA_CAT'])\n",
    "filename = str(gamma_cat_path / 'output/gammacat-datasets.json')\n",
    "resources = GammaCatResourceIndex.from_list(json.load(open(filename)))\n",
    "r29 = resources.query('source_id==29')\n",
    "r29.to_table()"
   ]
  },
  {
   "cell_type": "code",
   "execution_count": 6,
   "metadata": {},
   "outputs": [
    {
     "data": {
      "text/html": [
       "<i>Table length=5</i>\n",
       "<table id=\"table4338765608\" class=\"table-striped table-bordered table-condensed\">\n",
       "<thead><tr><th>e_ref</th><th>dnde</th><th>dnde_err</th></tr></thead>\n",
       "<thead><tr><th>TeV</th><th>1 / (m2 s TeV)</th><th>1 / (m2 s TeV)</th></tr></thead>\n",
       "<thead><tr><th>float32</th><th>float32</th><th>float32</th></tr></thead>\n",
       "<tr><td>0.358</td><td>1.64e-07</td><td>6.27e-08</td></tr>\n",
       "<tr><td>0.462</td><td>4.73e-08</td><td>2.4e-08</td></tr>\n",
       "<tr><td>0.595</td><td>4.01e-08</td><td>1.32e-08</td></tr>\n",
       "<tr><td>0.8</td><td>1.51e-08</td><td>5.55e-09</td></tr>\n",
       "<tr><td>1.347</td><td>1.59e-09</td><td>1.12e-09</td></tr>\n",
       "</table>"
      ],
      "text/plain": [
       "<Table length=5>\n",
       " e_ref       dnde         dnde_err   \n",
       "  TeV   1 / (m2 s TeV) 1 / (m2 s TeV)\n",
       "float32    float32        float32    \n",
       "------- -------------- --------------\n",
       "  0.358       1.64e-07       6.27e-08\n",
       "  0.462       4.73e-08        2.4e-08\n",
       "  0.595       4.01e-08       1.32e-08\n",
       "    0.8       1.51e-08       5.55e-09\n",
       "  1.347       1.59e-09       1.12e-09"
      ]
     },
     "execution_count": 6,
     "metadata": {},
     "output_type": "execute_result"
    }
   ],
   "source": [
    "filename = gamma_cat_path / 'input' / 'data/2009/2009ApJ...698L.133A/tev-000029-sed.ecsv'\n",
    "sed1 = FluxPoints.read(filename)\n",
    "sed1.table"
   ]
  },
  {
   "cell_type": "code",
   "execution_count": 7,
   "metadata": {},
   "outputs": [
    {
     "name": "stdout",
     "output_type": "stream",
     "text": [
      "{'data': {'excess': 247,\n",
      "          'livetime': '37.9h',\n",
      "          'significance': 8.3,\n",
      "          'significance_post_trial': 7.5},\n",
      " 'morph': {'sigma': {'err': '0.03d', 'err_sys': '0.04d', 'val': '0.16d'},\n",
      "           'type': 'gauss'},\n",
      " 'pos': {'dec': {'err': '0.03d', 'err_sys': '0.08d', 'val': '+22d30m11s'},\n",
      "         'ra': {'err': '0.03d', 'err_sys': '0.08d', 'val': '06h16m51s'}},\n",
      " 'reference_id': '2009ApJ...698L.133A',\n",
      " 'source_id': 29,\n",
      " 'spec': {'erange': {'max': 2.0, 'min': 0.317, 'unit': 'TeV'},\n",
      "          'model': {'parameters': {'e_ref': {'unit': 'TeV', 'val': 1},\n",
      "                                   'index': {'err': 0.38,\n",
      "                                             'err_sys': 0.3,\n",
      "                                             'val': 2.99},\n",
      "                                   'norm': {'err': 2.1,\n",
      "                                            'err_sys': 2.5,\n",
      "                                            'scale': '1e-13',\n",
      "                                            'unit': 'cm-2 s-1 TeV-1',\n",
      "                                            'val': 8.38}},\n",
      "                    'type': 'pl'},\n",
      "          'theta': '0.235d'},\n",
      " 'telescope': 'veritas'}\n"
     ]
    }
   ],
   "source": [
    "filename = str(gamma_cat_path / 'input' / 'data/2009/2009ApJ...698L.133A/tev-000029.yaml')\n",
    "data1 = yaml.load(open(filename))\n",
    "pprint(data1)"
   ]
  },
  {
   "cell_type": "code",
   "execution_count": 8,
   "metadata": {},
   "outputs": [
    {
     "name": "stdout",
     "output_type": "stream",
     "text": [
      "{'data': {'livetime': '155h'},\n",
      " 'morph': {'sigma': {'val': '0.3d'}, 'type': 'shell'},\n",
      " 'pos': {'dec': {'val': '+23d33m00s'}, 'ra': {'val': '06h16m52.8s'}},\n",
      " 'reference_id': '2015arXiv151201911H',\n",
      " 'source_id': 29,\n",
      " 'spec': {'erange': {'min': 0.19, 'unit': 'TeV'},\n",
      "          'model': {'parameters': {'e_ref': {'unit': 'TeV', 'val': 0.55},\n",
      "                                   'index': {'err': 0.09, 'val': 2.8},\n",
      "                                   'norm': {'err': 0.09,\n",
      "                                            'scale': '1e-12',\n",
      "                                            'unit': 'cm-2 s-1 TeV-1',\n",
      "                                            'val': 0.992}},\n",
      "                    'type': 'pl'},\n",
      "          'theta': '0.30d'},\n",
      " 'telescope': 'veritas'}\n"
     ]
    }
   ],
   "source": [
    "filename = str(gamma_cat_path / 'input' / 'data/2015/2015arXiv151201911H/tev-000029.yaml')\n",
    "data2 = yaml.load(open(filename))\n",
    "pprint(data2)"
   ]
  },
  {
   "cell_type": "code",
   "execution_count": 9,
   "metadata": {},
   "outputs": [],
   "source": [
    "def par_to_val(par):\n",
    "    print(par)\n",
    "    return par['val'] * float(par.get('scale', 1)) * Unit(par.get('unit', ''))\n",
    "\n",
    "def make_spectral_model_pl(data):\n",
    "    pars = data['spec']['model']['parameters']\n",
    "    index = par_to_val(pars['index'])\n",
    "    amplitude = par_to_val(pars['norm'])\n",
    "    reference = par_to_val(pars['e_ref'])\n",
    "    return PowerLaw(index, amplitude, reference)"
   ]
  },
  {
   "cell_type": "code",
   "execution_count": 10,
   "metadata": {},
   "outputs": [
    {
     "name": "stdout",
     "output_type": "stream",
     "text": [
      "{'val': 2.99, 'err': 0.38, 'err_sys': 0.3}\n",
      "{'val': 8.38, 'err': 2.1, 'err_sys': 2.5, 'scale': '1e-13', 'unit': 'cm-2 s-1 TeV-1'}\n",
      "{'val': 1, 'unit': 'TeV'}\n",
      "PowerLaw\n",
      "\n",
      "Parameters: \n",
      "\n",
      "\t   name     value   error       unit      min max frozen\n",
      "\t--------- --------- ----- --------------- --- --- ------\n",
      "\t    index 2.990e+00   nan                 nan nan  False\n",
      "\tamplitude 8.380e-13   nan 1 / (cm2 s TeV) nan nan  False\n",
      "\treference 1.000e+00   nan             TeV nan nan   True\n"
     ]
    }
   ],
   "source": [
    "model1 = make_spectral_model_pl(data1)\n",
    "print(model1)"
   ]
  },
  {
   "cell_type": "code",
   "execution_count": 11,
   "metadata": {},
   "outputs": [
    {
     "name": "stdout",
     "output_type": "stream",
     "text": [
      "{'val': 2.8, 'err': 0.09}\n",
      "{'val': 0.992, 'err': 0.09, 'scale': '1e-12', 'unit': 'cm-2 s-1 TeV-1'}\n",
      "{'val': 0.55, 'unit': 'TeV'}\n",
      "PowerLaw\n",
      "\n",
      "Parameters: \n",
      "\n",
      "\t   name     value   error       unit      min max frozen\n",
      "\t--------- --------- ----- --------------- --- --- ------\n",
      "\t    index 2.800e+00   nan                 nan nan  False\n",
      "\tamplitude 9.920e-13   nan 1 / (cm2 s TeV) nan nan  False\n",
      "\treference 5.500e-01   nan             TeV nan nan   True\n"
     ]
    }
   ],
   "source": [
    "model2 = make_spectral_model_pl(data2)\n",
    "print(model2)"
   ]
  },
  {
   "cell_type": "code",
   "execution_count": 12,
   "metadata": {},
   "outputs": [
    {
     "data": {
      "text/plain": [
       "<matplotlib.legend.Legend at 0x1075dc278>"
      ]
     },
     "execution_count": 12,
     "metadata": {},
     "output_type": "execute_result"
    },
    {
     "data": {
      "image/png": "[encoded data removed]",
      "text/plain": [
       "<matplotlib.figure.Figure at 0x108e84438>"
      ]
     },
     "metadata": {},
     "output_type": "display_data"
    }
   ],
   "source": [
    "energy_range = [0.2, 2] * Unit('TeV')\n",
    "sed1.plot(label='sed1')\n",
    "model1.plot(energy_range, label='model1')\n",
    "model2.plot(energy_range, label='model2')\n",
    "plt.legend()"
   ]
  },
  {
   "cell_type": "code",
   "execution_count": null,
   "metadata": {},
   "outputs": [],
   "source": []
  }
 ],
 "metadata": {
  "kernelspec": {
   "display_name": "Python 3",
   "language": "python",
   "name": "python3"
  },
  "language_info": {
   "codemirror_mode": {
    "name": "ipython",
    "version": 3
   },
   "file_extension": ".py",
   "mimetype": "text/x-python",
   "name": "python",
   "nbconvert_exporter": "python",
   "pygments_lexer": "ipython3",
   "version": "3.6.4"
  }
 },
 "nbformat": 4,
 "nbformat_minor": 2
}
